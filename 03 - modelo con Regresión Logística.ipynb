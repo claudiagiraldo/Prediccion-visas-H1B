{
  "nbformat": 4,
  "nbformat_minor": 0,
  "metadata": {
    "colab": {
      "provenance": [],
      "authorship_tag": "ABX9TyM9qmGyPp8jWkTCXxfrkDjc",
      "include_colab_link": true
    },
    "kernelspec": {
      "name": "python3",
      "display_name": "Python 3"
    },
    "language_info": {
      "name": "python"
    }
  },
  "cells": [
    {
      "cell_type": "markdown",
      "metadata": {
        "id": "view-in-github",
        "colab_type": "text"
      },
      "source": [
        "<a href=\"https://colab.research.google.com/github/claudiagiraldo/Proyecto/blob/main/03%20-%20modelo%20con%20Regresi%C3%B3n%20Log%C3%ADstica.ipynb\" target=\"_parent\"><img src=\"https://colab.research.google.com/assets/colab-badge.svg\" alt=\"Open In Colab\"/></a>"
      ]
    },
    {
      "cell_type": "markdown",
      "metadata": {
        "id": "kdOQooHTedqY"
      },
      "source": [
        "###**Modelo de prueba: Proyecto Visas**\n",
        "Por: Claudia Yaneth Giraldo Vergara\n",
        "\n",
        "C.C. 1001745178"
      ]
    },
    {
      "cell_type": "code",
      "source": [
        "import pandas as pd\n",
        "from sklearn.preprocessing import OneHotEncoder\n",
        "from sklearn.linear_model import LogisticRegression\n",
        "from sklearn import metrics\n",
        "from sklearn.metrics import classification_report"
      ],
      "metadata": {
        "id": "yyTCvNwTpkRH"
      },
      "execution_count": 11,
      "outputs": []
    },
    {
      "cell_type": "code",
      "execution_count": 6,
      "metadata": {
        "id": "TonMp_85i9oN"
      },
      "outputs": [],
      "source": [
        "# Carga de datos \n",
        "url1 = 'https://raw.githubusercontent.com/claudiagiraldo/Proyecto/main/x_train.csv'\n",
        "x_train = pd.read_csv(url1)\n",
        "url2 = 'https://raw.githubusercontent.com/claudiagiraldo/Proyecto/main/y_train.csv'\n",
        "y_train = pd.read_csv(url2)\n",
        "url3 = 'https://raw.githubusercontent.com/claudiagiraldo/Proyecto/main/x_test.csv'\n",
        "x_test = pd.read_csv(url3)\n",
        "url4 = 'https://raw.githubusercontent.com/claudiagiraldo/Proyecto/main/y_test.csv'\n",
        "y_test = pd.read_csv(url4)"
      ]
    },
    {
      "cell_type": "markdown",
      "source": [
        "## **Construcción de modelo**"
      ],
      "metadata": {
        "id": "-1mNy3aQJzPx"
      }
    },
    {
      "cell_type": "code",
      "source": [
        "x_train_encode = pd.get_dummies(x_train)\n",
        "x_test_encode = pd.get_dummies(x_test)"
      ],
      "metadata": {
        "id": "ITWKrKPxJwUY"
      },
      "execution_count": 7,
      "outputs": []
    },
    {
      "cell_type": "markdown",
      "source": [
        "**Regresión Logística**\n",
        "\n",
        "En primer lugar, se hará una prueba con el algoritmo de regresión logística:"
      ],
      "metadata": {
        "id": "qKoaYJ-YJ5XC"
      }
    },
    {
      "cell_type": "code",
      "source": [
        "algoritmo = LogisticRegression()\n",
        "algoritmo.fit(x_train_encode, y_train)\n",
        "y_pred = algoritmo.predict(x_test_encode)\n",
        "\n",
        "print(classification_report(y_test, y_pred))"
      ],
      "metadata": {
        "colab": {
          "base_uri": "https://localhost:8080/"
        },
        "id": "h-Lzbi7tKN1Q",
        "outputId": "d4c7a64f-88a1-4968-8fe3-893134a4e8fd"
      },
      "execution_count": 10,
      "outputs": [
        {
          "output_type": "stream",
          "name": "stderr",
          "text": [
            "/usr/local/lib/python3.9/dist-packages/sklearn/utils/validation.py:1143: DataConversionWarning: A column-vector y was passed when a 1d array was expected. Please change the shape of y to (n_samples, ), for example using ravel().\n",
            "  y = column_or_1d(y, warn=True)\n",
            "/usr/local/lib/python3.9/dist-packages/sklearn/linear_model/_logistic.py:458: ConvergenceWarning: lbfgs failed to converge (status=1):\n",
            "STOP: TOTAL NO. of ITERATIONS REACHED LIMIT.\n",
            "\n",
            "Increase the number of iterations (max_iter) or scale the data as shown in:\n",
            "    https://scikit-learn.org/stable/modules/preprocessing.html\n",
            "Please also refer to the documentation for alternative solver options:\n",
            "    https://scikit-learn.org/stable/modules/linear_model.html#logistic-regression\n",
            "  n_iter_i = _check_optimize_result(\n"
          ]
        },
        {
          "output_type": "stream",
          "name": "stdout",
          "text": [
            "              precision    recall  f1-score   support\n",
            "\n",
            "           0       0.88      1.00      0.93      4379\n",
            "           1       0.00      0.00      0.00       388\n",
            "           2       0.00      0.00      0.00       159\n",
            "           3       0.00      0.00      0.00        74\n",
            "\n",
            "    accuracy                           0.88      5000\n",
            "   macro avg       0.22      0.25      0.23      5000\n",
            "weighted avg       0.77      0.88      0.82      5000\n",
            "\n"
          ]
        },
        {
          "output_type": "stream",
          "name": "stderr",
          "text": [
            "/usr/local/lib/python3.9/dist-packages/sklearn/metrics/_classification.py:1344: UndefinedMetricWarning: Precision and F-score are ill-defined and being set to 0.0 in labels with no predicted samples. Use `zero_division` parameter to control this behavior.\n",
            "  _warn_prf(average, modifier, msg_start, len(result))\n",
            "/usr/local/lib/python3.9/dist-packages/sklearn/metrics/_classification.py:1344: UndefinedMetricWarning: Precision and F-score are ill-defined and being set to 0.0 in labels with no predicted samples. Use `zero_division` parameter to control this behavior.\n",
            "  _warn_prf(average, modifier, msg_start, len(result))\n",
            "/usr/local/lib/python3.9/dist-packages/sklearn/metrics/_classification.py:1344: UndefinedMetricWarning: Precision and F-score are ill-defined and being set to 0.0 in labels with no predicted samples. Use `zero_division` parameter to control this behavior.\n",
            "  _warn_prf(average, modifier, msg_start, len(result))\n"
          ]
        }
      ]
    }
  ]
}